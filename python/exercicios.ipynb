{
 "cells": [
  {
   "cell_type": "code",
   "execution_count": 32,
   "metadata": {},
   "outputs": [
    {
     "name": "stdout",
     "output_type": "stream",
     "text": [
      "Perimetro do quadrado:  84.0\n"
     ]
    }
   ],
   "source": [
    "lado_quadrado = float(input(\"Digite o valor do lado do quadrado: \"))\n",
    "\n",
    "perimetro_quadrado = lado_quadrado * 4\n",
    "\n",
    "print(\"Perimetro do quadrado: \", perimetro_quadrado)"
   ]
  },
  {
   "cell_type": "markdown",
   "metadata": {},
   "source": []
  },
  {
   "cell_type": "code",
   "execution_count": null,
   "metadata": {},
   "outputs": [],
   "source": []
  },
  {
   "cell_type": "code",
   "execution_count": 28,
   "metadata": {},
   "outputs": [
    {
     "name": "stdout",
     "output_type": "stream",
     "text": [
      "Amanda\n",
      "Serena\n",
      "Amanda Serena\n",
      "Douglas\n",
      "Serena\n",
      "Douglas Serena\n",
      "A média aritmética:  3.5\n",
      "A média aritmética:  3.3333333333333335\n",
      "A média aritmética:  4.0\n",
      "A média aritmética:  3.75\n",
      "A média aritmética:  5.5\n"
     ]
    }
   ],
   "source": [
    "from typing import Iterable\n",
    "\n",
    "name: str = \"Amanda\"\n",
    "\n",
    "def calcular_media_aritmetica(valores: Iterable[float]):\n",
    "    soma: float = 0\n",
    "    \n",
    "    for valor in valores:\n",
    "        soma += valor\n",
    "        \n",
    "    return soma / len(valores)\n",
    "\n",
    "print(\"A média aritmética: \", calcular_media_aritmetica([2,3,4,5]))\n",
    "print(\"A média aritmética: \", calcular_media_aritmetica([2,3,5]))\n",
    "print(\"A média aritmética: \", calcular_media_aritmetica([2,3,6,5]))\n",
    "print(\"A média aritmética: \", calcular_media_aritmetica([1,3,4,7]))\n",
    "print(\"A média aritmética: \", calcular_media_aritmetica([2,7,4,9]))"
   ]
  }
 ],
 "metadata": {
  "kernelspec": {
   "display_name": "Python 3",
   "language": "python",
   "name": "python3"
  },
  "language_info": {
   "codemirror_mode": {
    "name": "ipython",
    "version": 3
   },
   "file_extension": ".py",
   "mimetype": "text/x-python",
   "name": "python",
   "nbconvert_exporter": "python",
   "pygments_lexer": "ipython3",
   "version": "3.8.2"
  },
  "orig_nbformat": 4
 },
 "nbformat": 4,
 "nbformat_minor": 2
}
